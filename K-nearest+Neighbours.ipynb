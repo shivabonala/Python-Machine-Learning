{
 "cells": [
  {
   "cell_type": "markdown",
   "metadata": {},
   "source": [
    "We will be working on airbnb data released by Inside AirBnB. we'll be working with their dataset from October 3, 2015 on the listings from Washington, D.C.\n",
    "\n",
    "Here are the columns in the dataset:\n",
    "    \n",
    "\n",
    "host_response_rate: the response rate of the host\n",
    "    \n",
    "host_acceptance_rate: number of requests to the host that convert to rentals\n",
    "    \n",
    "host_listings_count: number of other listings the host has\n",
    "    \n",
    "latitude: latitude dimension of the geographic coordinates\n",
    "    \n",
    "longitude: longitude part of the coordinates\n",
    "    \n",
    "city: the city the living space resides\n",
    "    \n",
    "zipcode: the zip code the living space resides\n",
    "    \n",
    "state: the state the living space resides\n",
    "    \n",
    "accommodates: the number of guests the rental can accommodate\n",
    "    \n",
    "room_type: the type of living space (Private room, Shared room or Entire home/apt\n",
    "                                     \n",
    "bedrooms: number of bedrooms included in the rental\n",
    "                                     \n",
    "bathrooms: number of bathrooms included in the rental\n",
    "                                     \n",
    "beds: number of beds included in the rental\n",
    "                                     \n",
    "price: nightly price for the rental\n",
    "                                     \n",
    "cleaning_fee: additional fee used for cleaning the living space after the guest leaves\n",
    "                                     \n",
    "security_deposit: refundable security deposit, in case of damages\n",
    "                                     \n",
    "minimum_nights: minimum number of nights a guest can stay for the rental\n",
    "                                     \n",
    "maximum_nights: maximum number of nights a guest can stay for the rental\n",
    "                                     \n",
    "number_of_reviews: number of reviews that previous guests have left"
   ]
  },
  {
   "cell_type": "code",
   "execution_count": 38,
   "metadata": {
    "collapsed": true
   },
   "outputs": [],
   "source": [
    "import pandas as pd\n",
    "\n",
    "dc_listings = pd.read_csv(\"Machine Learning\\\\K-nearest Neighbours\\\\dc_airbnb.csv\")\n"
   ]
  },
  {
   "cell_type": "code",
   "execution_count": 39,
   "metadata": {},
   "outputs": [
    {
     "data": {
      "text/html": [
       "<div>\n",
       "<style>\n",
       "    .dataframe thead tr:only-child th {\n",
       "        text-align: right;\n",
       "    }\n",
       "\n",
       "    .dataframe thead th {\n",
       "        text-align: left;\n",
       "    }\n",
       "\n",
       "    .dataframe tbody tr th {\n",
       "        vertical-align: top;\n",
       "    }\n",
       "</style>\n",
       "<table border=\"1\" class=\"dataframe\">\n",
       "  <thead>\n",
       "    <tr style=\"text-align: right;\">\n",
       "      <th></th>\n",
       "      <th>host_response_rate</th>\n",
       "      <th>host_acceptance_rate</th>\n",
       "      <th>host_listings_count</th>\n",
       "      <th>accommodates</th>\n",
       "      <th>room_type</th>\n",
       "      <th>bedrooms</th>\n",
       "      <th>bathrooms</th>\n",
       "      <th>beds</th>\n",
       "      <th>price</th>\n",
       "      <th>cleaning_fee</th>\n",
       "      <th>security_deposit</th>\n",
       "      <th>minimum_nights</th>\n",
       "      <th>maximum_nights</th>\n",
       "      <th>number_of_reviews</th>\n",
       "      <th>latitude</th>\n",
       "      <th>longitude</th>\n",
       "      <th>city</th>\n",
       "      <th>zipcode</th>\n",
       "      <th>state</th>\n",
       "    </tr>\n",
       "  </thead>\n",
       "  <tbody>\n",
       "    <tr>\n",
       "      <th>0</th>\n",
       "      <td>92%</td>\n",
       "      <td>91%</td>\n",
       "      <td>26</td>\n",
       "      <td>4</td>\n",
       "      <td>Entire home/apt</td>\n",
       "      <td>1.0</td>\n",
       "      <td>1.0</td>\n",
       "      <td>2.0</td>\n",
       "      <td>$160.00</td>\n",
       "      <td>$115.00</td>\n",
       "      <td>$100.00</td>\n",
       "      <td>1</td>\n",
       "      <td>1125</td>\n",
       "      <td>0</td>\n",
       "      <td>38.890046</td>\n",
       "      <td>-77.002808</td>\n",
       "      <td>Washington</td>\n",
       "      <td>20003</td>\n",
       "      <td>DC</td>\n",
       "    </tr>\n",
       "    <tr>\n",
       "      <th>1</th>\n",
       "      <td>90%</td>\n",
       "      <td>100%</td>\n",
       "      <td>1</td>\n",
       "      <td>6</td>\n",
       "      <td>Entire home/apt</td>\n",
       "      <td>3.0</td>\n",
       "      <td>3.0</td>\n",
       "      <td>3.0</td>\n",
       "      <td>$350.00</td>\n",
       "      <td>$100.00</td>\n",
       "      <td>NaN</td>\n",
       "      <td>2</td>\n",
       "      <td>30</td>\n",
       "      <td>65</td>\n",
       "      <td>38.880413</td>\n",
       "      <td>-76.990485</td>\n",
       "      <td>Washington</td>\n",
       "      <td>20003</td>\n",
       "      <td>DC</td>\n",
       "    </tr>\n",
       "    <tr>\n",
       "      <th>2</th>\n",
       "      <td>90%</td>\n",
       "      <td>100%</td>\n",
       "      <td>2</td>\n",
       "      <td>1</td>\n",
       "      <td>Private room</td>\n",
       "      <td>1.0</td>\n",
       "      <td>2.0</td>\n",
       "      <td>1.0</td>\n",
       "      <td>$50.00</td>\n",
       "      <td>NaN</td>\n",
       "      <td>NaN</td>\n",
       "      <td>2</td>\n",
       "      <td>1125</td>\n",
       "      <td>1</td>\n",
       "      <td>38.955291</td>\n",
       "      <td>-76.986006</td>\n",
       "      <td>Hyattsville</td>\n",
       "      <td>20782</td>\n",
       "      <td>MD</td>\n",
       "    </tr>\n",
       "    <tr>\n",
       "      <th>3</th>\n",
       "      <td>100%</td>\n",
       "      <td>NaN</td>\n",
       "      <td>1</td>\n",
       "      <td>2</td>\n",
       "      <td>Private room</td>\n",
       "      <td>1.0</td>\n",
       "      <td>1.0</td>\n",
       "      <td>1.0</td>\n",
       "      <td>$95.00</td>\n",
       "      <td>NaN</td>\n",
       "      <td>NaN</td>\n",
       "      <td>1</td>\n",
       "      <td>1125</td>\n",
       "      <td>0</td>\n",
       "      <td>38.872134</td>\n",
       "      <td>-77.019639</td>\n",
       "      <td>Washington</td>\n",
       "      <td>20024</td>\n",
       "      <td>DC</td>\n",
       "    </tr>\n",
       "    <tr>\n",
       "      <th>4</th>\n",
       "      <td>92%</td>\n",
       "      <td>67%</td>\n",
       "      <td>1</td>\n",
       "      <td>4</td>\n",
       "      <td>Entire home/apt</td>\n",
       "      <td>1.0</td>\n",
       "      <td>1.0</td>\n",
       "      <td>1.0</td>\n",
       "      <td>$50.00</td>\n",
       "      <td>$15.00</td>\n",
       "      <td>$450.00</td>\n",
       "      <td>7</td>\n",
       "      <td>1125</td>\n",
       "      <td>0</td>\n",
       "      <td>38.996382</td>\n",
       "      <td>-77.041541</td>\n",
       "      <td>Silver Spring</td>\n",
       "      <td>20910</td>\n",
       "      <td>MD</td>\n",
       "    </tr>\n",
       "  </tbody>\n",
       "</table>\n",
       "</div>"
      ],
      "text/plain": [
       "  host_response_rate host_acceptance_rate  host_listings_count  accommodates  \\\n",
       "0                92%                  91%                   26             4   \n",
       "1                90%                 100%                    1             6   \n",
       "2                90%                 100%                    2             1   \n",
       "3               100%                  NaN                    1             2   \n",
       "4                92%                  67%                    1             4   \n",
       "\n",
       "         room_type  bedrooms  bathrooms  beds    price cleaning_fee  \\\n",
       "0  Entire home/apt       1.0        1.0   2.0  $160.00      $115.00   \n",
       "1  Entire home/apt       3.0        3.0   3.0  $350.00      $100.00   \n",
       "2     Private room       1.0        2.0   1.0   $50.00          NaN   \n",
       "3     Private room       1.0        1.0   1.0   $95.00          NaN   \n",
       "4  Entire home/apt       1.0        1.0   1.0   $50.00       $15.00   \n",
       "\n",
       "  security_deposit  minimum_nights  maximum_nights  number_of_reviews  \\\n",
       "0          $100.00               1            1125                  0   \n",
       "1              NaN               2              30                 65   \n",
       "2              NaN               2            1125                  1   \n",
       "3              NaN               1            1125                  0   \n",
       "4          $450.00               7            1125                  0   \n",
       "\n",
       "    latitude  longitude           city zipcode state  \n",
       "0  38.890046 -77.002808     Washington   20003    DC  \n",
       "1  38.880413 -76.990485     Washington   20003    DC  \n",
       "2  38.955291 -76.986006    Hyattsville   20782    MD  \n",
       "3  38.872134 -77.019639     Washington   20024    DC  \n",
       "4  38.996382 -77.041541  Silver Spring   20910    MD  "
      ]
     },
     "execution_count": 39,
     "metadata": {},
     "output_type": "execute_result"
    }
   ],
   "source": [
    "dc_listings.head()"
   ]
  },
  {
   "cell_type": "code",
   "execution_count": 40,
   "metadata": {
    "collapsed": true
   },
   "outputs": [],
   "source": [
    "# Calculate Euclidean distance between our living space, which can accommodate 3 people using just one feture\n",
    "\n",
    "first_acc_value = dc_listings.iloc[0][\"accommodates\"]\n",
    "our_acc_value = 3 \n",
    "edist_one =  abs(first_acc_value - our_acc_value)"
   ]
  },
  {
   "cell_type": "code",
   "execution_count": 41,
   "metadata": {},
   "outputs": [
    {
     "name": "stdout",
     "output_type": "stream",
     "text": [
      "1     2294\n",
      "2      503\n",
      "0      461\n",
      "3      279\n",
      "5       73\n",
      "4       35\n",
      "7       22\n",
      "6       17\n",
      "9       12\n",
      "13       8\n",
      "8        7\n",
      "12       6\n",
      "11       4\n",
      "10       2\n",
      "Name: distance, dtype: int64\n"
     ]
    }
   ],
   "source": [
    "import numpy as np\n",
    "dc_listings[\"distance\"] = dc_listings[\"accommodates\"].apply(lambda x: np.abs(3-x))\n",
    "\n",
    "print(dc_listings['distance'].value_counts())"
   ]
  },
  {
   "cell_type": "code",
   "execution_count": 42,
   "metadata": {},
   "outputs": [
    {
     "name": "stdout",
     "output_type": "stream",
     "text": [
      "      accommodates    price\n",
      "3163             3  $126.00\n",
      "3128             3  $100.00\n",
      "108              3   $89.00\n",
      "710              3   $89.00\n",
      "3144             3  $125.00\n",
      "1573             3  $100.00\n",
      "1737             3  $140.00\n",
      "2500             3  $150.00\n",
      "176              3  $119.00\n",
      "2327             3  $115.00\n"
     ]
    }
   ],
   "source": [
    "# randomly pick top 5 living spaces for 5 nearest neighbours\n",
    "import random\n",
    "random.seed(1)\n",
    "dc_listings = dc_listings.loc[np.random.permutation(len(dc_listings))]\n",
    "dc_listings = dc_listings.sort_values(\"distance\")\n",
    "\n",
    "\n",
    "print(dc_listings[0:10][[\"accommodates\",\"price\"]])\n",
    "\n"
   ]
  },
  {
   "cell_type": "code",
   "execution_count": 43,
   "metadata": {},
   "outputs": [
    {
     "name": "stdout",
     "output_type": "stream",
     "text": [
      "     host_response_rate host_acceptance_rate  host_listings_count  \\\n",
      "3163                80%                  73%                    1   \n",
      "3128                80%                  NaN                    1   \n",
      "108                100%                 100%                    1   \n",
      "710                 99%                  96%                   32   \n",
      "3144               100%                  95%                    1   \n",
      "\n",
      "      accommodates        room_type  bedrooms  bathrooms  beds    price  \\\n",
      "3163             3  Entire home/apt       1.0        1.0   1.0  $126.00   \n",
      "3128             3  Entire home/apt       0.0        1.0   2.0  $100.00   \n",
      "108              3      Shared room       1.0        1.0   3.0   $89.00   \n",
      "710              3  Entire home/apt       1.0        1.0   2.0   $89.00   \n",
      "3144             3  Entire home/apt       1.0        1.0   1.0  $125.00   \n",
      "\n",
      "     cleaning_fee    ...     minimum_nights  maximum_nights  \\\n",
      "3163       $60.00    ...                  2            1125   \n",
      "3128      $100.00    ...                  3            1125   \n",
      "108        $30.00    ...                  1            1125   \n",
      "710        $45.00    ...                  4             120   \n",
      "3144       $60.00    ...                  1            1125   \n",
      "\n",
      "      number_of_reviews   latitude  longitude              city zipcode state  \\\n",
      "3163                  4  38.924646 -77.032407        Washington   20009    DC   \n",
      "3128                  5  38.922069 -77.029803        Washington   20009    DC   \n",
      "108                   1  38.895800 -77.011522        Washington   20001    DC   \n",
      "710                  75  38.919880 -77.097958        Washington   20007    DC   \n",
      "3144                 37  38.932131 -77.036201  Washington, D.C.   20010    DC   \n",
      "\n",
      "     distance  mod_price  \n",
      "3163        0      126.0  \n",
      "3128        0      100.0  \n",
      "108         0       89.0  \n",
      "710         0       89.0  \n",
      "3144        0      125.0  \n",
      "\n",
      "[5 rows x 21 columns]\n"
     ]
    }
   ],
   "source": [
    "# remove $ and commas from price column using regex and convert to float\n",
    "import re\n",
    "dc_listings[\"mod_price\"]=dc_listings[\"price\"].apply(lambda x: float(re.sub('[$,]','',x)))\n",
    "print(dc_listings.head())\n"
   ]
  },
  {
   "cell_type": "code",
   "execution_count": 44,
   "metadata": {
    "collapsed": true
   },
   "outputs": [],
   "source": [
    "# remove $ and commas from price column using str accessor\n",
    "# convert to float\n",
    "dc_listings[\"price\"] = dc_listings[\"price\"].str.replace('$','')\n",
    "dc_listings[\"price\"] = dc_listings[\"price\"].str.replace(',','').astype('float')\n"
   ]
  },
  {
   "cell_type": "code",
   "execution_count": 45,
   "metadata": {},
   "outputs": [
    {
     "name": "stdout",
     "output_type": "stream",
     "text": [
      "105.8\n"
     ]
    }
   ],
   "source": [
    "\n",
    "mean_price = dc_listings.iloc[0:5]['price'].mean()\n",
    "print(mean_price)\n"
   ]
  },
  {
   "cell_type": "code",
   "execution_count": 46,
   "metadata": {},
   "outputs": [
    {
     "name": "stdout",
     "output_type": "stream",
     "text": [
      "67.4 132.8 160.8\n"
     ]
    }
   ],
   "source": [
    "# write funtion to predict prices\n",
    "dc_listings = pd.read_csv(\"C:\\\\Users\\\\Shiva\\\\Documents\\\\Shiva\\\\Data_Science_Tutorials\\\\Dataquest\\\\Machine Learning\\\\K-nearest Neighbours\\\\dc_airbnb.csv\")\n",
    "dc_listings[\"price\"]=dc_listings[\"price\"].apply(lambda x: float(re.sub('[$,]','',x)))\n",
    "dc_listings = dc_listings.loc[np.random.permutation(len(dc_listings))]\n",
    "\n",
    "def predict_price(listing_bedrooms):\n",
    "    import numpy as np\n",
    "    temp_df = dc_listings\n",
    "    temp_df[\"distance\"] = np.abs(listing_bedrooms - dc_listings[\"accommodates\"])\n",
    "    temp_df = temp_df.sort_values(\"distance\")\n",
    "    mean = temp_df[0:5][\"price\"].mean()\n",
    "    return mean\n",
    "\n",
    "acc_one = predict_price(1)\n",
    "acc_two = predict_price(2)\n",
    "acc_four = predict_price(4)\n",
    "print(acc_one, acc_two, acc_four)\n",
    "    \n"
   ]
  },
  {
   "cell_type": "code",
   "execution_count": 47,
   "metadata": {},
   "outputs": [
    {
     "name": "stdout",
     "output_type": "stream",
     "text": [
      "      accommodates  price  predicted_price\n",
      "2792             2  120.0            104.0\n",
      "2793             3  140.0            177.4\n",
      "2794             4  299.0            145.8\n",
      "2795             3   85.0            177.4\n",
      "2796             6  175.0            187.2\n"
     ]
    }
   ],
   "source": [
    "# Evaluating Model using train/test validation\n",
    "\n",
    "import numpy as np\n",
    "import pandas as pd\n",
    "\n",
    "dc_listings = pd.read_csv(\"C:\\\\Users\\\\Shiva\\\\Documents\\\\Shiva\\\\Data_Science_Tutorials\\\\Dataquest\\\\Machine Learning\\\\K-nearest Neighbours\\\\dc_airbnb.csv\")\n",
    "dc_listings[\"price\"]=dc_listings[\"price\"].apply(lambda x: float(re.sub('[$,]','',x)))\n",
    "\n",
    "\n",
    "train_df = dc_listings.iloc[0:2792]\n",
    "test_df = dc_listings.iloc[2792:]\n",
    "\n",
    "train_df.is_copy = False\n",
    "test_df.is_copy = False\n",
    "\n",
    "def predict_price(listing_bedrooms):\n",
    "    import numpy as np\n",
    "    temp_df = train_df\n",
    "    temp_df[\"distance\"] =  temp_df[\"accommodates\"].apply(lambda x: np.abs(listing_bedrooms - x))\n",
    "    temp_df = temp_df.sort_values(\"distance\")\n",
    "    mean = temp_df[0:5][\"price\"].mean()\n",
    "    return mean\n",
    "\n",
    "\n",
    "test_df[\"predicted_price\"] = test_df[\"accommodates\"].apply(predict_price)\n",
    "print(test_df[[\"accommodates\",\"price\",\"predicted_price\"]].head())\n",
    "\n",
    "\n"
   ]
  },
  {
   "cell_type": "code",
   "execution_count": 48,
   "metadata": {},
   "outputs": [
    {
     "name": "stdout",
     "output_type": "stream",
     "text": [
      "56.2900107411\n"
     ]
    }
   ],
   "source": [
    "# Calucalte mean absolute error\n",
    "import numpy as np\n",
    "def calc_error(row):\n",
    "    return np.abs(row[\"predicted_price\"]-row[\"price\"])\n",
    "    \n",
    "test_df[\"error\"]=test_df.apply(calc_error,axis=1)\n",
    "mean_error = sum(test_df[\"error\"])/len(test_df[\"error\"])\n",
    "\n",
    "print(mean_error)"
   ]
  },
  {
   "cell_type": "code",
   "execution_count": 49,
   "metadata": {},
   "outputs": [
    {
     "name": "stdout",
     "output_type": "stream",
     "text": [
      "18646.525370569325\n"
     ]
    }
   ],
   "source": [
    "# Calucalte mean squared error\n",
    "import numpy as np\n",
    "    \n",
    "test_df[\"squared_error\"]=np.abs(test_df[\"predicted_price\"]-test_df[\"price\"]) ** 2\n",
    "mean_squared_error = test_df[\"squared_error\"].mean()\n",
    "\n",
    "print(mean_squared_error)"
   ]
  },
  {
   "cell_type": "code",
   "execution_count": 50,
   "metadata": {},
   "outputs": [
    {
     "name": "stdout",
     "output_type": "stream",
     "text": [
      "18405.444081632548\n"
     ]
    }
   ],
   "source": [
    "# Train another model using bathrooms colums\n",
    "\n",
    "import numpy as np\n",
    "import pandas as pd\n",
    "dc_listings = pd.read_csv(\"C:\\\\Users\\\\Shiva\\\\Documents\\\\Shiva\\\\Data_Science_Tutorials\\\\Dataquest\\\\Machine Learning\\\\K-nearest Neighbours\\\\dc_airbnb.csv\")\n",
    "dc_listings[\"price\"]=dc_listings[\"price\"].apply(lambda x: float(re.sub('[$,]','',x)))\n",
    "test_df2 = dc_listings.iloc[0:2792]\n",
    "train_df2 = dc_listings.iloc[2792:]\n",
    "\n",
    "test_df2.is_copy = False\n",
    "train_df2.is_copy = False\n",
    "\n",
    "def predict_price2(listing_baths):\n",
    "    temp_df = train_df\n",
    "    temp_df[\"distance\"] = np.abs(temp_df[\"bathrooms\"] - listing_baths)\n",
    "    temp_df = temp_df.sort_values(\"distance\")\n",
    "    mean = temp_df.iloc[0:5]['price'].mean()\n",
    "    return mean\n",
    "\n",
    "\n",
    "train_df2[\"predicted_price2\"] = train_df2[\"bathrooms\"].apply(predict_price2)  \n",
    "\n",
    "train_df2[\"squared_error2\"] = np.abs(train_df2[\"predicted_price2\"] - train_df2[\"price\"]) ** 2\n",
    "\n",
    "squared_error2_mean = train_df2[\"squared_error2\"].mean()\n",
    "print(squared_error2_mean)\n",
    "\n",
    "\n"
   ]
  },
  {
   "cell_type": "code",
   "execution_count": 51,
   "metadata": {},
   "outputs": [
    {
     "data": {
      "text/plain": [
       "135.6666653295221"
      ]
     },
     "execution_count": 51,
     "metadata": {},
     "output_type": "execute_result"
    }
   ],
   "source": [
    "# calcualte how far off the model's predictions with true value:\n",
    "# root mean square\n",
    "\n",
    "root_mean_baths = squared_error2_mean ** (1/2)\n",
    "root_mean_baths\n"
   ]
  },
  {
   "cell_type": "code",
   "execution_count": 52,
   "metadata": {},
   "outputs": [
    {
     "name": "stdout",
     "output_type": "stream",
     "text": [
      "<class 'pandas.core.frame.DataFrame'>\n",
      "RangeIndex: 3723 entries, 0 to 3722\n",
      "Data columns (total 19 columns):\n",
      "host_response_rate      3289 non-null object\n",
      "host_acceptance_rate    3109 non-null object\n",
      "host_listings_count     3723 non-null int64\n",
      "accommodates            3723 non-null int64\n",
      "room_type               3723 non-null object\n",
      "bedrooms                3702 non-null float64\n",
      "bathrooms               3696 non-null float64\n",
      "beds                    3712 non-null float64\n",
      "price                   3723 non-null float64\n",
      "cleaning_fee            2335 non-null object\n",
      "security_deposit        1426 non-null object\n",
      "minimum_nights          3723 non-null int64\n",
      "maximum_nights          3723 non-null int64\n",
      "number_of_reviews       3723 non-null int64\n",
      "latitude                3723 non-null float64\n",
      "longitude               3723 non-null float64\n",
      "city                    3723 non-null object\n",
      "zipcode                 3714 non-null object\n",
      "state                   3723 non-null object\n",
      "dtypes: float64(6), int64(5), object(8)\n",
      "memory usage: 552.7+ KB\n",
      "None\n",
      "<class 'pandas.core.frame.DataFrame'>\n",
      "RangeIndex: 3723 entries, 0 to 3722\n",
      "Data columns (total 10 columns):\n",
      "accommodates         3723 non-null int64\n",
      "bedrooms             3702 non-null float64\n",
      "bathrooms            3696 non-null float64\n",
      "beds                 3712 non-null float64\n",
      "price                3723 non-null float64\n",
      "cleaning_fee         2335 non-null object\n",
      "security_deposit     1426 non-null object\n",
      "minimum_nights       3723 non-null int64\n",
      "maximum_nights       3723 non-null int64\n",
      "number_of_reviews    3723 non-null int64\n",
      "dtypes: float64(4), int64(4), object(2)\n",
      "memory usage: 290.9+ KB\n",
      "None\n",
      "accommodates            0\n",
      "bedrooms               21\n",
      "bathrooms              27\n",
      "beds                   11\n",
      "price                   0\n",
      "cleaning_fee         1388\n",
      "security_deposit     2297\n",
      "minimum_nights          0\n",
      "maximum_nights          0\n",
      "number_of_reviews       0\n",
      "dtype: int64\n"
     ]
    }
   ],
   "source": [
    "# clean up data to calculate multivariable k nearest neighbours\n",
    "\n",
    "dc_listings = pd.read_csv(\"Machine Learning\\\\K-nearest Neighbours\\\\dc_airbnb.csv\")\n",
    "dc_listings[\"price\"]=dc_listings[\"price\"].apply(lambda x: float(re.sub('[$,]','',x)))\n",
    "print(dc_listings.info())\n",
    "drop_columns = ['room_type', 'city', 'state', 'latitude', 'longitude', 'zipcode', 'host_response_rate', 'host_acceptance_rate', 'host_listings_count']\n",
    "dc_listings = dc_listings.drop(drop_columns, axis=1)\n",
    "print(dc_listings.info())\n",
    "print(dc_listings.isnull().sum())\n"
   ]
  },
  {
   "cell_type": "code",
   "execution_count": 53,
   "metadata": {},
   "outputs": [
    {
     "name": "stdout",
     "output_type": "stream",
     "text": [
      "<class 'pandas.core.frame.DataFrame'>\n",
      "Int64Index: 3671 entries, 0 to 3722\n",
      "Data columns (total 8 columns):\n",
      "accommodates         3671 non-null int64\n",
      "bedrooms             3671 non-null float64\n",
      "bathrooms            3671 non-null float64\n",
      "beds                 3671 non-null float64\n",
      "price                3671 non-null float64\n",
      "minimum_nights       3671 non-null int64\n",
      "maximum_nights       3671 non-null int64\n",
      "number_of_reviews    3671 non-null int64\n",
      "dtypes: float64(4), int64(4)\n",
      "memory usage: 258.1 KB\n",
      "None\n",
      "accommodates         0\n",
      "bedrooms             0\n",
      "bathrooms            0\n",
      "beds                 0\n",
      "price                0\n",
      "minimum_nights       0\n",
      "maximum_nights       0\n",
      "number_of_reviews    0\n",
      "dtype: int64\n"
     ]
    }
   ],
   "source": [
    "# remove missing rows\n",
    "dc_listings = dc_listings.drop(['cleaning_fee','security_deposit'],axis=1)\n",
    "dc_listings = dc_listings.dropna()\n",
    "print(dc_listings.info())\n",
    "print(dc_listings.isnull().sum())"
   ]
  },
  {
   "cell_type": "code",
   "execution_count": 54,
   "metadata": {
    "collapsed": true
   },
   "outputs": [],
   "source": [
    "# Normalize all the feature columns in the listings except price\n",
    "norm_listing = (dc_listings - dc_listings.mean())/dc_listings.std()\n",
    "norm_listing[\"price\"] = dc_listings[\"price\"]"
   ]
  },
  {
   "cell_type": "code",
   "execution_count": 55,
   "metadata": {
    "collapsed": true
   },
   "outputs": [],
   "source": [
    "# calcualte euclidean distance betwewn two rows in our datset using scipy\n",
    "from scipy.spatial import distance\n",
    "first_list =  norm_listing.iloc[0][[\"accommodates\",\"bathrooms\"]]\n",
    "second_list =  norm_listing.iloc[1][[\"accommodates\",\"bathrooms\"]]\n",
    "dist = distance.euclidean(first_list,second_list)"
   ]
  },
  {
   "cell_type": "code",
   "execution_count": 56,
   "metadata": {},
   "outputs": [
    {
     "data": {
      "text/html": [
       "<div>\n",
       "<style>\n",
       "    .dataframe thead tr:only-child th {\n",
       "        text-align: right;\n",
       "    }\n",
       "\n",
       "    .dataframe thead th {\n",
       "        text-align: left;\n",
       "    }\n",
       "\n",
       "    .dataframe tbody tr th {\n",
       "        vertical-align: top;\n",
       "    }\n",
       "</style>\n",
       "<table border=\"1\" class=\"dataframe\">\n",
       "  <thead>\n",
       "    <tr style=\"text-align: right;\">\n",
       "      <th></th>\n",
       "      <th>price</th>\n",
       "      <th>prediction</th>\n",
       "    </tr>\n",
       "  </thead>\n",
       "  <tbody>\n",
       "    <tr>\n",
       "      <th>2839</th>\n",
       "      <td>25.0</td>\n",
       "      <td>62.8</td>\n",
       "    </tr>\n",
       "    <tr>\n",
       "      <th>2840</th>\n",
       "      <td>60.0</td>\n",
       "      <td>120.2</td>\n",
       "    </tr>\n",
       "    <tr>\n",
       "      <th>2841</th>\n",
       "      <td>149.0</td>\n",
       "      <td>91.0</td>\n",
       "    </tr>\n",
       "    <tr>\n",
       "      <th>2842</th>\n",
       "      <td>136.0</td>\n",
       "      <td>305.6</td>\n",
       "    </tr>\n",
       "    <tr>\n",
       "      <th>2843</th>\n",
       "      <td>90.0</td>\n",
       "      <td>120.2</td>\n",
       "    </tr>\n",
       "    <tr>\n",
       "      <th>2844</th>\n",
       "      <td>95.0</td>\n",
       "      <td>120.2</td>\n",
       "    </tr>\n",
       "    <tr>\n",
       "      <th>2845</th>\n",
       "      <td>750.0</td>\n",
       "      <td>266.6</td>\n",
       "    </tr>\n",
       "    <tr>\n",
       "      <th>2846</th>\n",
       "      <td>95.0</td>\n",
       "      <td>120.2</td>\n",
       "    </tr>\n",
       "    <tr>\n",
       "      <th>2847</th>\n",
       "      <td>80.0</td>\n",
       "      <td>91.0</td>\n",
       "    </tr>\n",
       "    <tr>\n",
       "      <th>2848</th>\n",
       "      <td>101.0</td>\n",
       "      <td>120.2</td>\n",
       "    </tr>\n",
       "  </tbody>\n",
       "</table>\n",
       "</div>"
      ],
      "text/plain": [
       "      price  prediction\n",
       "2839   25.0        62.8\n",
       "2840   60.0       120.2\n",
       "2841  149.0        91.0\n",
       "2842  136.0       305.6\n",
       "2843   90.0       120.2\n",
       "2844   95.0       120.2\n",
       "2845  750.0       266.6\n",
       "2846   95.0       120.2\n",
       "2847   80.0        91.0\n",
       "2848  101.0       120.2"
      ]
     },
     "execution_count": 56,
     "metadata": {},
     "output_type": "execute_result"
    }
   ],
   "source": [
    "# using scikit-learn library to predict using multivariate K-nearest neighbors with 2 features\n",
    "from sklearn.neighbors import KNeighborsRegressor\n",
    "knn = KNeighborsRegressor(n_neighbors=5,algorithm='brute',metric='euclidean')\n",
    "train_df = norm_listing.iloc[0:2792]\n",
    "test_df = norm_listing.iloc[2792:]\n",
    "test_df.is_copy = False\n",
    "train_df.is_copy = False\n",
    "features = ['accommodates','bathrooms']\n",
    "knn.fit(train_df[features],train_df['price'])\n",
    "test_df[\"prediction\"] = knn.predict(test_df[features])\n",
    "test_df[[\"price\",\"prediction\"]].head(10)\n"
   ]
  },
  {
   "cell_type": "code",
   "execution_count": 57,
   "metadata": {},
   "outputs": [
    {
     "name": "stdout",
     "output_type": "stream",
     "text": [
      "12880.7854835 113.493548202\n"
     ]
    }
   ],
   "source": [
    "# calculate mean suared error and root of mean squared error using scikit-learn library\n",
    "from sklearn.metrics import mean_squared_error\n",
    "two_mse = mean_squared_error(test_df[\"price\"],test_df[\"prediction\"])\n",
    "two_rmse = two_mse ** (1/2)\n",
    "print(two_mse,two_rmse)"
   ]
  },
  {
   "cell_type": "code",
   "execution_count": 58,
   "metadata": {},
   "outputs": [
    {
     "name": "stdout",
     "output_type": "stream",
     "text": [
      "      price  prediction\n",
      "2839   25.0        62.6\n",
      "2840   60.0       134.6\n",
      "2841  149.0       137.4\n",
      "2842  136.0       139.6\n",
      "2843   90.0       112.8\n",
      "2844   95.0       121.6\n",
      "2845  750.0       323.0\n",
      "2846   95.0       109.2\n",
      "2847   80.0       114.8\n",
      "2848  101.0       103.6\n",
      "12540.9176792 113.493548202\n"
     ]
    }
   ],
   "source": [
    "# using scikit-learn library to predict using multivariate K-nearest neighbors with 5 features\n",
    "from sklearn.neighbors import KNeighborsRegressor\n",
    "knn = KNeighborsRegressor(n_neighbors=5,algorithm='brute',)\n",
    "train_df = norm_listing.iloc[0:2792]\n",
    "test_df = norm_listing.iloc[2792:]\n",
    "test_df.is_copy = False\n",
    "train_df.is_copy = False\n",
    "features = ['accommodates', 'bedrooms', 'bathrooms', 'number_of_reviews']\n",
    "knn.fit(train_df[features],train_df['price'])\n",
    "test_df[\"prediction\"] = knn.predict(test_df[features])\n",
    "test_df[[\"price\",\"prediction\"]].head(10)\n",
    "four_mse = mean_squared_error(test_df[\"price\"],test_df[\"prediction\"])\n",
    "four_rmse = two_mse ** (1/2)\n",
    "print(test_df[[\"price\",\"prediction\"]].head(10))\n",
    "print(four_mse,four_rmse)\n",
    "\n",
    "\n"
   ]
  },
  {
   "cell_type": "code",
   "execution_count": 75,
   "metadata": {},
   "outputs": [
    {
     "name": "stdout",
     "output_type": "stream",
     "text": [
      "[29237.998862343571, 17267.729806598407, 13348.968777651373, 12628.648321956769, 12540.91767918089, 11894.373435722411, 11447.417264516731, 11447.519891211605, 11118.453615921571, 11287.735073947666, 11222.127201271169, 11313.0774475414, 11358.858311287033, 11229.788070859744, 11221.134425483504, 11366.136460999716, 11264.874054741347, 11302.93907217798, 11420.455948115303, 11421.859573378841]\n"
     ]
    }
   ],
   "source": [
    "# optimize hyperparameters \n",
    "\n",
    "from sklearn.neighbors import KNeighborsRegressor\n",
    "from sklearn.metrics import mean_squared_error\n",
    "mse_values = []\n",
    "features = ['accommodates', 'bedrooms', 'bathrooms', 'number_of_reviews']\n",
    "for i in range(1,21):\n",
    "    knn = KNeighborsRegressor(algorithm = 'brute', n_neighbors = i)\n",
    "    knn.fit(train_df[features],train_df['price'])\n",
    "    predict = knn.predict(test_df[features])\n",
    "    mse = mean_squared_error(test_df['price'],predict)\n",
    "    mse_values.append(mse)\n",
    "    \n",
    "print(mse_values)    \n",
    "    "
   ]
  },
  {
   "cell_type": "code",
   "execution_count": 77,
   "metadata": {},
   "outputs": [
    {
     "data": {
      "image/png": "[encoded data removed]",
      "text/plain": [
       "<matplotlib.figure.Figure at 0x211d8e6a9b0>"
      ]
     },
     "metadata": {},
     "output_type": "display_data"
    }
   ],
   "source": [
    "# optimize value is 10\n",
    "# lets check these values on scatter plot\n",
    "import matplotlib.pyplot as plt\n",
    "%matplotlib inline\n",
    "hyper_params = [x for x in range(1, 21)]\n",
    "plt.scatter(hyper_params,mse_values)\n",
    "plt.show()\n"
   ]
  },
  {
   "cell_type": "code",
   "execution_count": 83,
   "metadata": {},
   "outputs": [
    {
     "name": "stdout",
     "output_type": "stream",
     "text": [
      "{15: 12131.253528512514}\n",
      "{5: 12201.339306029578}\n",
      "{8: 11118.453615921571}\n",
      "{13: 12021.539539365234}\n"
     ]
    }
   ],
   "source": [
    "# create a function to pass multiple features\n",
    "\n",
    "from sklearn.neighbors import KNeighborsRegressor\n",
    "from sklearn.metrics import mean_squared_error\n",
    "\n",
    "two_features = ['accommodates', 'bathrooms']\n",
    "three_features = ['accommodates', 'bathrooms', 'bedrooms']\n",
    "four_features = ['accommodates', 'bedrooms', 'bathrooms', 'number_of_reviews']\n",
    "all_features = train_df.columns.tolist()\n",
    "all_features.remove('price')\n",
    "\n",
    "hyper_params = [x for x in range(1,21)]\n",
    "\n",
    "two_mse_values = list()\n",
    "three_mse_values = list()\n",
    "four_mse_values = list()\n",
    "all_mse_values = list()\n",
    "\n",
    "two_hyp_mse = dict()\n",
    "three_hyp_mse = dict()\n",
    "four_hyp_mse = dict()\n",
    "all_hyp_mse = dict()\n",
    "\n",
    "def knn_regfunct(features):\n",
    "    mse_list = []\n",
    "    for i in hyper_params:\n",
    "        \n",
    "        knn = KNeighborsRegressor(algorithm = 'brute', n_neighbors = i)\n",
    "        knn.fit(train_df[features],train_df['price'])\n",
    "        predict = knn.predict(test_df[features])\n",
    "        mse = mean_squared_error(test_df['price'],predict)\n",
    "        mse_list.append(mse)\n",
    "        \n",
    "    return mse_list\n",
    "    \n",
    "\n",
    "two_mse_values =  knn_regfunct(two_features)  \n",
    "three_mse_values = knn_regfunct(three_features)  \n",
    "four_mse_values = knn_regfunct(four_features)  \n",
    "all_mse_values = knn_regfunct(all_features)  \n",
    "\n",
    "two_hyp_mse[two_mse_values.index(min(two_mse_values))] = min(two_mse_values)\n",
    "three_hyp_mse[three_mse_values.index(min(three_mse_values))] = min(three_mse_values)\n",
    "four_hyp_mse[four_mse_values.index(min(four_mse_values))] = min(four_mse_values)   \n",
    "all_hyp_mse[all_mse_values.index(min(all_mse_values))] = min(all_mse_values) \n",
    "\n",
    "print(two_hyp_mse)\n",
    "print(three_hyp_mse)\n",
    "print(four_hyp_mse)\n",
    "print(all_hyp_mse)"
   ]
  },
  {
   "cell_type": "code",
   "execution_count": null,
   "metadata": {
    "collapsed": true
   },
   "outputs": [],
   "source": [
    "{5: 14790.314266211606}\n",
    "{7: 13518.769009310208}"
   ]
  }
 ],
 "metadata": {
  "kernelspec": {
   "display_name": "Python 3",
   "language": "python",
   "name": "python3"
  },
  "language_info": {
   "codemirror_mode": {
    "name": "ipython",
    "version": 3
   },
   "file_extension": ".py",
   "mimetype": "text/x-python",
   "name": "python",
   "nbconvert_exporter": "python",
   "pygments_lexer": "ipython3",
   "version": "3.6.1"
  }
 },
 "nbformat": 4,
 "nbformat_minor": 2
}
